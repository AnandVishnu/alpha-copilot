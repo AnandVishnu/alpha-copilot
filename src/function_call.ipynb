{
 "cells": [
  {
   "cell_type": "code",
   "execution_count": 1,
   "metadata": {},
   "outputs": [],
   "source": [
    "import json\n",
    "from openai import OpenAI\n",
    "from tenacity import retry, wait_random_exponential, stop_after_attempt\n",
    "from termcolor import colored \n",
    "import yfinance as yf\n",
    "import pandas as pd\n",
    "from matplotlib import pyplot as plt\n",
    "\n",
    "GPT_MODEL = \"gpt-3.5-turbo-0613\"\n",
    "client = OpenAI()"
   ]
  },
  {
   "cell_type": "code",
   "execution_count": 2,
   "metadata": {},
   "outputs": [],
   "source": [
    "@retry(wait=wait_random_exponential(multiplier=1, max=40), stop=stop_after_attempt(3))\n",
    "def chat_completion_request(messages, tools=None, tool_choice=None, model=GPT_MODEL):\n",
    "    try:\n",
    "        response = client.chat.completions.create(\n",
    "            model=model,\n",
    "            messages=messages,\n",
    "            tools=tools,\n",
    "            tool_choice=tool_choice,\n",
    "        )\n",
    "        return response\n",
    "    except Exception as e:\n",
    "        print(\"Unable to generate ChatCompletion response\")\n",
    "        print(f\"Exception: {e}\")\n",
    "        return e\n"
   ]
  },
  {
   "cell_type": "code",
   "execution_count": 3,
   "metadata": {},
   "outputs": [],
   "source": [
    "def get_stock_price(ticker, start_date, end_date):\n",
    "    return yf.Ticker(ticker).history(start=start_date, end=end_date).Close\n"
   ]
  },
  {
   "cell_type": "code",
   "execution_count": 7,
   "metadata": {},
   "outputs": [
    {
     "data": {
      "text/html": [
       "<div>\n",
       "<style scoped>\n",
       "    .dataframe tbody tr th:only-of-type {\n",
       "        vertical-align: middle;\n",
       "    }\n",
       "\n",
       "    .dataframe tbody tr th {\n",
       "        vertical-align: top;\n",
       "    }\n",
       "\n",
       "    .dataframe thead th {\n",
       "        text-align: right;\n",
       "    }\n",
       "</style>\n",
       "<table border=\"1\" class=\"dataframe\">\n",
       "  <thead>\n",
       "    <tr style=\"text-align: right;\">\n",
       "      <th></th>\n",
       "      <th>NVDA</th>\n",
       "      <th>AAPL</th>\n",
       "    </tr>\n",
       "    <tr>\n",
       "      <th>Date</th>\n",
       "      <th></th>\n",
       "      <th></th>\n",
       "    </tr>\n",
       "  </thead>\n",
       "  <tbody>\n",
       "    <tr>\n",
       "      <th>2020-01-02 00:00:00-05:00</th>\n",
       "      <td>59.741245</td>\n",
       "      <td>73.059441</td>\n",
       "    </tr>\n",
       "    <tr>\n",
       "      <th>2020-01-03 00:00:00-05:00</th>\n",
       "      <td>58.785023</td>\n",
       "      <td>72.349144</td>\n",
       "    </tr>\n",
       "    <tr>\n",
       "      <th>2020-01-06 00:00:00-05:00</th>\n",
       "      <td>59.031548</td>\n",
       "      <td>72.925644</td>\n",
       "    </tr>\n",
       "    <tr>\n",
       "      <th>2020-01-07 00:00:00-05:00</th>\n",
       "      <td>59.746212</td>\n",
       "      <td>72.582649</td>\n",
       "    </tr>\n",
       "    <tr>\n",
       "      <th>2020-01-08 00:00:00-05:00</th>\n",
       "      <td>59.858273</td>\n",
       "      <td>73.750252</td>\n",
       "    </tr>\n",
       "    <tr>\n",
       "      <th>...</th>\n",
       "      <td>...</td>\n",
       "      <td>...</td>\n",
       "    </tr>\n",
       "    <tr>\n",
       "      <th>2024-02-23 00:00:00-05:00</th>\n",
       "      <td>788.132996</td>\n",
       "      <td>182.520004</td>\n",
       "    </tr>\n",
       "    <tr>\n",
       "      <th>2024-02-26 00:00:00-05:00</th>\n",
       "      <td>790.882874</td>\n",
       "      <td>181.160004</td>\n",
       "    </tr>\n",
       "    <tr>\n",
       "      <th>2024-02-27 00:00:00-05:00</th>\n",
       "      <td>786.973083</td>\n",
       "      <td>182.630005</td>\n",
       "    </tr>\n",
       "    <tr>\n",
       "      <th>2024-02-28 00:00:00-05:00</th>\n",
       "      <td>776.593567</td>\n",
       "      <td>181.419998</td>\n",
       "    </tr>\n",
       "    <tr>\n",
       "      <th>2024-02-29 00:00:00-05:00</th>\n",
       "      <td>791.082886</td>\n",
       "      <td>180.750000</td>\n",
       "    </tr>\n",
       "  </tbody>\n",
       "</table>\n",
       "<p>1047 rows × 2 columns</p>\n",
       "</div>"
      ],
      "text/plain": [
       "                                 NVDA        AAPL\n",
       "Date                                             \n",
       "2020-01-02 00:00:00-05:00   59.741245   73.059441\n",
       "2020-01-03 00:00:00-05:00   58.785023   72.349144\n",
       "2020-01-06 00:00:00-05:00   59.031548   72.925644\n",
       "2020-01-07 00:00:00-05:00   59.746212   72.582649\n",
       "2020-01-08 00:00:00-05:00   59.858273   73.750252\n",
       "...                               ...         ...\n",
       "2024-02-23 00:00:00-05:00  788.132996  182.520004\n",
       "2024-02-26 00:00:00-05:00  790.882874  181.160004\n",
       "2024-02-27 00:00:00-05:00  786.973083  182.630005\n",
       "2024-02-28 00:00:00-05:00  776.593567  181.419998\n",
       "2024-02-29 00:00:00-05:00  791.082886  180.750000\n",
       "\n",
       "[1047 rows x 2 columns]"
      ]
     },
     "execution_count": 7,
     "metadata": {},
     "output_type": "execute_result"
    }
   ],
   "source": [
    "def create_portfolio(tickers, benchmark, start_date, end_date):\n",
    "    portfolio = pd.DataFrame()\n",
    "    factor = 1 / len(ticker)\n",
    "    for ticker in tickers:\n",
    "        temp_df = yf.Ticker(ticker).history(start=start_date, end=end_date)\n",
    "        temp_df = temp_df.reset_index().set_index('Date')[['Close']]\n",
    "        temp_df = temp_df.rename(columns={'Close': ticker})\n",
    "        if portfolio.empty:\n",
    "            portfolio = temp_df\n",
    "            portfolio['port'] = temp_df[ticker] * factor\n",
    "        else:\n",
    "            portfolio = portfolio.merge(temp_df, left_index=True, right_index=True)\n",
    "            portfolio['port'] += temp_df[ticker] * factor\n",
    "        \n",
    "        \n",
    "    \n",
    "    temp_benchmark = yf.Ticker(benchmark).history(start=start_date, end=end_date)\n",
    "    portfolio = portfolio.merge(temp_benchmark, left_index=True, right_index=True)\n",
    "    portfolio = portfolio[['port', benchmark]]\n",
    "    return portfolio\n",
    "\n",
    "# args = {'tickers': ['NVDA', 'AAPL'],\n",
    "#  'benchmark': 'SP500',\n",
    "#  'start_date': '2020-01-01',\n",
    "#  'end_date': '2024-03-01'}\n",
    "\n",
    "# create_portfolio(**args)"
   ]
  },
  {
   "cell_type": "code",
   "execution_count": 8,
   "metadata": {},
   "outputs": [],
   "source": [
    "args = {'tickers': ['NVDA', 'AAPL'],\n",
    " 'benchmark': 'SP500',\n",
    " 'start_date': '2020-01-01',\n",
    " 'end_date': '2024-03-01'}\n",
    "\n",
    "df = create_portfolio(**args)"
   ]
  },
  {
   "cell_type": "code",
   "execution_count": 12,
   "metadata": {},
   "outputs": [
    {
     "data": {
      "text/html": [
       "<div>\n",
       "<style scoped>\n",
       "    .dataframe tbody tr th:only-of-type {\n",
       "        vertical-align: middle;\n",
       "    }\n",
       "\n",
       "    .dataframe tbody tr th {\n",
       "        vertical-align: top;\n",
       "    }\n",
       "\n",
       "    .dataframe thead th {\n",
       "        text-align: right;\n",
       "    }\n",
       "</style>\n",
       "<table border=\"1\" class=\"dataframe\">\n",
       "  <thead>\n",
       "    <tr style=\"text-align: right;\">\n",
       "      <th></th>\n",
       "      <th>NVDA</th>\n",
       "      <th>AAPL</th>\n",
       "    </tr>\n",
       "    <tr>\n",
       "      <th>Date</th>\n",
       "      <th></th>\n",
       "      <th></th>\n",
       "    </tr>\n",
       "  </thead>\n",
       "  <tbody>\n",
       "    <tr>\n",
       "      <th>2020-01-02 00:00:00-05:00</th>\n",
       "      <td>1.000000</td>\n",
       "      <td>1.000000</td>\n",
       "    </tr>\n",
       "    <tr>\n",
       "      <th>2020-01-03 00:00:00-05:00</th>\n",
       "      <td>0.983994</td>\n",
       "      <td>0.990278</td>\n",
       "    </tr>\n",
       "    <tr>\n",
       "      <th>2020-01-06 00:00:00-05:00</th>\n",
       "      <td>0.988120</td>\n",
       "      <td>0.998169</td>\n",
       "    </tr>\n",
       "    <tr>\n",
       "      <th>2020-01-07 00:00:00-05:00</th>\n",
       "      <td>1.000083</td>\n",
       "      <td>0.993474</td>\n",
       "    </tr>\n",
       "    <tr>\n",
       "      <th>2020-01-08 00:00:00-05:00</th>\n",
       "      <td>1.001959</td>\n",
       "      <td>1.009455</td>\n",
       "    </tr>\n",
       "    <tr>\n",
       "      <th>...</th>\n",
       "      <td>...</td>\n",
       "      <td>...</td>\n",
       "    </tr>\n",
       "    <tr>\n",
       "      <th>2024-02-23 00:00:00-05:00</th>\n",
       "      <td>13.192443</td>\n",
       "      <td>2.498240</td>\n",
       "    </tr>\n",
       "    <tr>\n",
       "      <th>2024-02-26 00:00:00-05:00</th>\n",
       "      <td>13.238473</td>\n",
       "      <td>2.479625</td>\n",
       "    </tr>\n",
       "    <tr>\n",
       "      <th>2024-02-27 00:00:00-05:00</th>\n",
       "      <td>13.173028</td>\n",
       "      <td>2.499745</td>\n",
       "    </tr>\n",
       "    <tr>\n",
       "      <th>2024-02-28 00:00:00-05:00</th>\n",
       "      <td>12.999287</td>\n",
       "      <td>2.483184</td>\n",
       "    </tr>\n",
       "    <tr>\n",
       "      <th>2024-02-29 00:00:00-05:00</th>\n",
       "      <td>13.241821</td>\n",
       "      <td>2.474013</td>\n",
       "    </tr>\n",
       "  </tbody>\n",
       "</table>\n",
       "<p>1047 rows × 2 columns</p>\n",
       "</div>"
      ],
      "text/plain": [
       "                                NVDA      AAPL\n",
       "Date                                          \n",
       "2020-01-02 00:00:00-05:00   1.000000  1.000000\n",
       "2020-01-03 00:00:00-05:00   0.983994  0.990278\n",
       "2020-01-06 00:00:00-05:00   0.988120  0.998169\n",
       "2020-01-07 00:00:00-05:00   1.000083  0.993474\n",
       "2020-01-08 00:00:00-05:00   1.001959  1.009455\n",
       "...                              ...       ...\n",
       "2024-02-23 00:00:00-05:00  13.192443  2.498240\n",
       "2024-02-26 00:00:00-05:00  13.238473  2.479625\n",
       "2024-02-27 00:00:00-05:00  13.173028  2.499745\n",
       "2024-02-28 00:00:00-05:00  12.999287  2.483184\n",
       "2024-02-29 00:00:00-05:00  13.241821  2.474013\n",
       "\n",
       "[1047 rows x 2 columns]"
      ]
     },
     "execution_count": 12,
     "metadata": {},
     "output_type": "execute_result"
    }
   ],
   "source": []
  },
  {
   "cell_type": "code",
   "execution_count": 48,
   "metadata": {},
   "outputs": [
    {
     "data": {
      "text/plain": [
       "Date\n",
       "2023-01-03 00:00:00-05:00    124.216301\n",
       "2023-01-04 00:00:00-05:00    125.497498\n",
       "2023-01-05 00:00:00-05:00    124.166634\n",
       "2023-01-06 00:00:00-05:00    128.735229\n",
       "2023-01-09 00:00:00-05:00    129.261627\n",
       "                                ...    \n",
       "2024-03-13 00:00:00-04:00    171.130005\n",
       "2024-03-14 00:00:00-04:00    173.000000\n",
       "2024-03-15 00:00:00-04:00    172.619995\n",
       "2024-03-18 00:00:00-04:00    173.720001\n",
       "2024-03-19 00:00:00-04:00    176.080002\n",
       "Name: Close, Length: 304, dtype: float64"
      ]
     },
     "execution_count": 48,
     "metadata": {},
     "output_type": "execute_result"
    }
   ],
   "source": [
    "get_stock_price('AAPL', start_date='2023-01-01', end_date='2024-03-20')"
   ]
  },
  {
   "cell_type": "code",
   "execution_count": 53,
   "metadata": {},
   "outputs": [],
   "source": [
    "tools = [\n",
    "    {\n",
    "        \"type\": \"function\",\n",
    "        \"function\": {\n",
    "            \"name\": \"get_stock_price\",\n",
    "            \"description\": \"Get the close price of a stock given a ticker and start date and end date\",\n",
    "            \"parameters\": {\n",
    "                \"type\": \"object\",\n",
    "                \"properties\": {\n",
    "                    \"ticker\": {\n",
    "                        \"type\": \"string\",\n",
    "                        \"description\": \"The ticker of the stock. eg AAPL. Note: FB is now META\",\n",
    "                    },\n",
    "                    \"start_date\": {\n",
    "                        \"type\": \"string\",\n",
    "                        \"description\": \"start date in YYYY-MM-DD format\",\n",
    "                    },\n",
    "                    \"end_date\": {\n",
    "                        \"type\": \"string\",\n",
    "                        \"description\": \"start date in YYYY-MM-DD format\",\n",
    "                    },\n",
    "                },\n",
    "                \"required\": [\"ticker\", \"start_date\", 'end_date'],\n",
    "            },\n",
    "        }\n",
    "    },\n",
    "    {\n",
    "        \"type\": \"function\",\n",
    "        \"function\": {\n",
    "            \"name\": \"create_portfolio\",\n",
    "            \"description\": \"Creates a portfolio by choosing a list of stock tickers and then compare it against a benchmark for a period with start date and end date\",\n",
    "            \"parameters\": {\n",
    "                \"type\": \"object\",\n",
    "                \"properties\": {\n",
    "                    \"tickers\": {\n",
    "                        \"type\": \"array\",\n",
    "                        \"items\": {\n",
    "                        \"type\": \"integer\"\n",
    "                        },\n",
    "                        \"description\": \"List of tickers to be used portfolio construction. eg [AAPL, NVDA]. Note: FB is now META\",\n",
    "                    },\n",
    "                    \"benchmark\": {\n",
    "                        \"type\": \"string\",\n",
    "                        \"description\": \"The ticker of the benchmark. eg AAPL. Note: FB is now META\",\n",
    "                    },\n",
    "                    \"start_date\": {\n",
    "                        \"type\": \"string\",\n",
    "                        \"description\": \"start date in YYYY-MM-DD format\",\n",
    "                    },\n",
    "                    \"end_date\": {\n",
    "                        \"type\": \"string\",\n",
    "                        \"description\": \"start date in YYYY-MM-DD format\",\n",
    "                    },\n",
    "                },\n",
    "                \"required\": [\"tickers\", \"benchmark\", \"start_date\", 'end_date'],\n",
    "            },\n",
    "        }\n",
    "    },\n",
    "]"
   ]
  },
  {
   "cell_type": "code",
   "execution_count": 62,
   "metadata": {},
   "outputs": [],
   "source": [
    "f_map = {\n",
    "    'get_stock_price': get_stock_price,\n",
    "    'create_portfolio': create_portfolio\n",
    "}"
   ]
  },
  {
   "cell_type": "code",
   "execution_count": 56,
   "metadata": {},
   "outputs": [
    {
     "data": {
      "text/plain": [
       "ChatCompletionMessage(content=None, role='assistant', function_call=None, tool_calls=[ChatCompletionMessageToolCall(id='call_7GThXdS9Umzv6ysEfIs3ZllD', function=Function(arguments='{\\n  \"tickers\": [\"BTC\", \"AAPL\"],\\n  \"benchmark\": \"SP500\",\\n  \"start_date\": \"2020-01-01\",\\n  \"end_date\": \"2024-03-01\"\\n}', name='create_portfolio'), type='function')])"
      ]
     },
     "execution_count": 56,
     "metadata": {},
     "output_type": "execute_result"
    }
   ],
   "source": [
    "messages = []\n",
    "messages.append({\"role\": \"system\", \"content\": \"Don't make assumptions about what values to plug into functions. Ask for clarification if a user request is ambiguous.\"})\n",
    "messages.append({\"role\": \"user\", \"content\": \"create a portfolio of stocks using bitcoin and apple for the period 2020-01-01 to 2024-03-01. The benchmark is S&P 500\"})\n",
    "chat_response = chat_completion_request(\n",
    "    messages, tools=tools\n",
    ")\n",
    "assistant_message = chat_response.choices[0].message\n",
    "messages.append(assistant_message)\n",
    "assistant_message\n"
   ]
  },
  {
   "cell_type": "code",
   "execution_count": 57,
   "metadata": {},
   "outputs": [
    {
     "data": {
      "text/plain": [
       "Function(arguments='{\\n  \"tickers\": [\"BTC\", \"AAPL\"],\\n  \"benchmark\": \"SP500\",\\n  \"start_date\": \"2020-01-01\",\\n  \"end_date\": \"2024-03-01\"\\n}', name='create_portfolio')"
      ]
     },
     "execution_count": 57,
     "metadata": {},
     "output_type": "execute_result"
    }
   ],
   "source": [
    "assistant_message.tool_calls[0].function"
   ]
  },
  {
   "cell_type": "code",
   "execution_count": 58,
   "metadata": {},
   "outputs": [
    {
     "data": {
      "text/plain": [
       "{'tickers': ['BTC', 'AAPL'],\n",
       " 'benchmark': 'SP500',\n",
       " 'start_date': '2020-01-01',\n",
       " 'end_date': '2024-03-01'}"
      ]
     },
     "execution_count": 58,
     "metadata": {},
     "output_type": "execute_result"
    }
   ],
   "source": [
    "json.loads(assistant_message.tool_calls[0].function.arguments)"
   ]
  },
  {
   "cell_type": "code",
   "execution_count": 63,
   "metadata": {},
   "outputs": [
    {
     "data": {
      "text/html": [
       "<div>\n",
       "<style scoped>\n",
       "    .dataframe tbody tr th:only-of-type {\n",
       "        vertical-align: middle;\n",
       "    }\n",
       "\n",
       "    .dataframe tbody tr th {\n",
       "        vertical-align: top;\n",
       "    }\n",
       "\n",
       "    .dataframe thead th {\n",
       "        text-align: right;\n",
       "    }\n",
       "</style>\n",
       "<table border=\"1\" class=\"dataframe\">\n",
       "  <thead>\n",
       "    <tr style=\"text-align: right;\">\n",
       "      <th></th>\n",
       "      <th>Close</th>\n",
       "    </tr>\n",
       "  </thead>\n",
       "  <tbody>\n",
       "  </tbody>\n",
       "</table>\n",
       "</div>"
      ],
      "text/plain": [
       "Empty DataFrame\n",
       "Columns: [Close]\n",
       "Index: []"
      ]
     },
     "execution_count": 63,
     "metadata": {},
     "output_type": "execute_result"
    }
   ],
   "source": [
    "f_name = f_map[assistant_message.tool_calls[0].function.name]\n",
    "args = json.loads(assistant_message.tool_calls[0].function.arguments)\n",
    "\n",
    "f_name(**args)"
   ]
  },
  {
   "cell_type": "code",
   "execution_count": 20,
   "metadata": {},
   "outputs": [
    {
     "data": {
      "text/plain": [
       "ChatCompletionMessage(content='Sure! Please provide the number of days for which you want to know the weather forecast.', role='assistant', function_call=None, tool_calls=None)"
      ]
     },
     "execution_count": 20,
     "metadata": {},
     "output_type": "execute_result"
    }
   ],
   "source": [
    "messages = []\n",
    "messages.append({\"role\": \"system\", \"content\": \"Don't make assumptions about what values to plug into functions. Ask for clarification if a user request is ambiguous.\"})\n",
    "messages.append({\"role\": \"user\", \"content\": \"what is the weather going to be like in Glasgow, Scotland over the next x days\"})\n",
    "chat_response = chat_completion_request(\n",
    "    messages, tools=tools\n",
    ")\n",
    "assistant_message = chat_response.choices[0].message\n",
    "messages.append(assistant_message)\n",
    "assistant_message\n"
   ]
  },
  {
   "cell_type": "code",
   "execution_count": 21,
   "metadata": {},
   "outputs": [
    {
     "data": {
      "text/plain": [
       "Choice(finish_reason='tool_calls', index=0, logprobs=None, message=ChatCompletionMessage(content=None, role='assistant', function_call=None, tool_calls=[ChatCompletionMessageToolCall(id='call_At9XT132wmR6OCxAsSYvPoVm', function=Function(arguments='{\\n  \"location\": \"Glasgow, Scotland\",\\n  \"format\": \"celsius\",\\n  \"num_days\": 5\\n}', name='get_n_day_weather_forecast'), type='function')]))"
      ]
     },
     "execution_count": 21,
     "metadata": {},
     "output_type": "execute_result"
    }
   ],
   "source": [
    "messages.append({\"role\": \"user\", \"content\": \"5 days\"})\n",
    "chat_response = chat_completion_request(\n",
    "    messages, tools=tools\n",
    ")\n",
    "chat_response.choices[0]"
   ]
  },
  {
   "cell_type": "code",
   "execution_count": null,
   "metadata": {},
   "outputs": [],
   "source": []
  }
 ],
 "metadata": {
  "kernelspec": {
   "display_name": "alpha-copilot",
   "language": "python",
   "name": "python3"
  },
  "language_info": {
   "codemirror_mode": {
    "name": "ipython",
    "version": 3
   },
   "file_extension": ".py",
   "mimetype": "text/x-python",
   "name": "python",
   "nbconvert_exporter": "python",
   "pygments_lexer": "ipython3",
   "version": "3.12.2"
  }
 },
 "nbformat": 4,
 "nbformat_minor": 2
}
